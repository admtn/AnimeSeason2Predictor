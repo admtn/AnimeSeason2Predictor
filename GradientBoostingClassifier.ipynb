{
 "cells": [
  {
   "cell_type": "code",
   "execution_count": 1,
   "metadata": {
    "collapsed": false
   },
   "outputs": [
   ],
   "source": [
    "# Basic Libraries\n",
    "import math\n",
    "import numpy as np\n",
    "import pandas as pd\n",
    "import seaborn as sb\n",
    "import matplotlib.pyplot as plt # we only need pyplot\n",
    "sb.set() # set the default Seaborn style for graphics"
   ]
  },
  {
   "cell_type": "code",
   "execution_count": 2,
   "metadata": {
    "collapsed": false
   },
   "outputs": [
    {
     "data": {
      "text/html": [
       "<div>\n",
       "<style scoped>\n",
       "    .dataframe tbody tr th:only-of-type {\n",
       "        vertical-align: middle;\n",
       "    }\n",
       "\n",
       "    .dataframe tbody tr th {\n",
       "        vertical-align: top;\n",
       "    }\n",
       "\n",
       "    .dataframe thead th {\n",
       "        text-align: right;\n",
       "    }\n",
       "</style>\n",
       "<table border=\"1\" class=\"dataframe\">\n",
       "  <thead>\n",
       "    <tr style=\"text-align: right;\">\n",
       "      <th></th>\n",
       "      <th>Unnamed: 0</th>\n",
       "      <th>MAL_ID</th>\n",
       "      <th>Name</th>\n",
       "      <th>Score</th>\n",
       "      <th>Genres</th>\n",
       "      <th>English name</th>\n",
       "      <th>Japanese name</th>\n",
       "      <th>Type</th>\n",
       "      <th>Episodes</th>\n",
       "      <th>Aired</th>\n",
       "      <th>...</th>\n",
       "      <th>Manga</th>\n",
       "      <th>Music</th>\n",
       "      <th>Novel</th>\n",
       "      <th>Original</th>\n",
       "      <th>Other</th>\n",
       "      <th>Picture book</th>\n",
       "      <th>Radio</th>\n",
       "      <th>Unknown</th>\n",
       "      <th>Visual novel</th>\n",
       "      <th>Web manga</th>\n",
       "    </tr>\n",
       "  </thead>\n",
       "  <tbody>\n",
       "    <tr>\n",
       "      <th>0</th>\n",
       "      <td>8521</td>\n",
       "      <td>21743</td>\n",
       "      <td>Donten ni Warau</td>\n",
       "      <td>800</td>\n",
       "      <td>Action, Historical, Shoujo, Supernatural</td>\n",
       "      <td>Laughing Under the Clouds</td>\n",
       "      <td>曇天に笑う</td>\n",
       "      <td>TV</td>\n",
       "      <td>12</td>\n",
       "      <td>Oct 4, 2014 to Dec 20, 2014</td>\n",
       "      <td>...</td>\n",
       "      <td>1</td>\n",
       "      <td>0</td>\n",
       "      <td>0</td>\n",
       "      <td>0</td>\n",
       "      <td>0</td>\n",
       "      <td>0</td>\n",
       "      <td>0</td>\n",
       "      <td>0</td>\n",
       "      <td>0</td>\n",
       "      <td>0</td>\n",
       "    </tr>\n",
       "    <tr>\n",
       "      <th>1</th>\n",
       "      <td>2988</td>\n",
       "      <td>3372</td>\n",
       "      <td>RGB Adventure</td>\n",
       "      <td>0</td>\n",
       "      <td>Adventure</td>\n",
       "      <td>RGB Adventure</td>\n",
       "      <td>RGBアドベンチャ</td>\n",
       "      <td>TV</td>\n",
       "      <td>6</td>\n",
       "      <td>Nov 19, 2006 to Dec 24, 2006</td>\n",
       "      <td>...</td>\n",
       "      <td>0</td>\n",
       "      <td>0</td>\n",
       "      <td>0</td>\n",
       "      <td>0</td>\n",
       "      <td>0</td>\n",
       "      <td>0</td>\n",
       "      <td>0</td>\n",
       "      <td>1</td>\n",
       "      <td>0</td>\n",
       "      <td>0</td>\n",
       "    </tr>\n",
       "    <tr>\n",
       "      <th>2</th>\n",
       "      <td>5765</td>\n",
       "      <td>9424</td>\n",
       "      <td>Seupideuwang Beongae</td>\n",
       "      <td>700</td>\n",
       "      <td>Action, Game, School, Shounen, Sports</td>\n",
       "      <td>Wings of Dragon</td>\n",
       "      <td>스피드왕 번개</td>\n",
       "      <td>TV</td>\n",
       "      <td>26</td>\n",
       "      <td>May 18, 1998 to Aug 18, 1998</td>\n",
       "      <td>...</td>\n",
       "      <td>0</td>\n",
       "      <td>0</td>\n",
       "      <td>0</td>\n",
       "      <td>0</td>\n",
       "      <td>0</td>\n",
       "      <td>0</td>\n",
       "      <td>0</td>\n",
       "      <td>1</td>\n",
       "      <td>0</td>\n",
       "      <td>0</td>\n",
       "    </tr>\n",
       "    <tr>\n",
       "      <th>3</th>\n",
       "      <td>1675</td>\n",
       "      <td>1839</td>\n",
       "      <td>Jagainu-kun</td>\n",
       "      <td>700</td>\n",
       "      <td>Adventure, Fantasy, Kids, Shoujo, Slice of Life</td>\n",
       "      <td>Unknown</td>\n",
       "      <td>じゃがいぬくん</td>\n",
       "      <td>TV</td>\n",
       "      <td>26</td>\n",
       "      <td>Apr 4, 2004 to Jul 18, 2004</td>\n",
       "      <td>...</td>\n",
       "      <td>0</td>\n",
       "      <td>0</td>\n",
       "      <td>0</td>\n",
       "      <td>0</td>\n",
       "      <td>0</td>\n",
       "      <td>0</td>\n",
       "      <td>0</td>\n",
       "      <td>1</td>\n",
       "      <td>0</td>\n",
       "      <td>0</td>\n",
       "    </tr>\n",
       "    <tr>\n",
       "      <th>4</th>\n",
       "      <td>11462</td>\n",
       "      <td>32670</td>\n",
       "      <td>Battle Spirits: Double Drive</td>\n",
       "      <td>600</td>\n",
       "      <td>Game, Fantasy</td>\n",
       "      <td>Unknown</td>\n",
       "      <td>バトルスピリッツ ダブルドライブ</td>\n",
       "      <td>TV</td>\n",
       "      <td>51</td>\n",
       "      <td>Apr 6, 2016 to Mar 29, 2017</td>\n",
       "      <td>...</td>\n",
       "      <td>0</td>\n",
       "      <td>0</td>\n",
       "      <td>0</td>\n",
       "      <td>0</td>\n",
       "      <td>0</td>\n",
       "      <td>0</td>\n",
       "      <td>0</td>\n",
       "      <td>0</td>\n",
       "      <td>0</td>\n",
       "      <td>0</td>\n",
       "    </tr>\n",
       "  </tbody>\n",
       "</table>\n",
       "<p>5 rows × 55 columns</p>\n",
       "</div>"
      ],
      "text/plain": [
       "   Unnamed: 0  MAL_ID                          Name  Score  \\\n",
       "0        8521   21743               Donten ni Warau    800   \n",
       "1        2988    3372                 RGB Adventure      0   \n",
       "2        5765    9424          Seupideuwang Beongae    700   \n",
       "3        1675    1839                   Jagainu-kun    700   \n",
       "4       11462   32670  Battle Spirits: Double Drive    600   \n",
       "\n",
       "                                            Genres               English name  \\\n",
       "0         Action, Historical, Shoujo, Supernatural  Laughing Under the Clouds   \n",
       "1                                        Adventure              RGB Adventure   \n",
       "2            Action, Game, School, Shounen, Sports            Wings of Dragon   \n",
       "3  Adventure, Fantasy, Kids, Shoujo, Slice of Life                    Unknown   \n",
       "4                                    Game, Fantasy                    Unknown   \n",
       "\n",
       "      Japanese name Type Episodes                         Aired  ... Manga  \\\n",
       "0             曇天に笑う   TV       12   Oct 4, 2014 to Dec 20, 2014  ...     1   \n",
       "1         RGBアドベンチャ   TV        6  Nov 19, 2006 to Dec 24, 2006  ...     0   \n",
       "2           스피드왕 번개   TV       26  May 18, 1998 to Aug 18, 1998  ...     0   \n",
       "3           じゃがいぬくん   TV       26   Apr 4, 2004 to Jul 18, 2004  ...     0   \n",
       "4  バトルスピリッツ ダブルドライブ   TV       51   Apr 6, 2016 to Mar 29, 2017  ...     0   \n",
       "\n",
       "  Music Novel Original Other Picture book Radio  Unknown  Visual novel  \\\n",
       "0     0     0        0     0            0     0        0             0   \n",
       "1     0     0        0     0            0     0        1             0   \n",
       "2     0     0        0     0            0     0        1             0   \n",
       "3     0     0        0     0            0     0        1             0   \n",
       "4     0     0        0     0            0     0        0             0   \n",
       "\n",
       "   Web manga  \n",
       "0          0  \n",
       "1          0  \n",
       "2          0  \n",
       "3          0  \n",
       "4          0  \n",
       "\n",
       "[5 rows x 55 columns]"
      ]
     },
     "execution_count": 2,
     "metadata": {
     },
     "output_type": "execute_result"
    }
   ],
   "source": [
    "animedata = pd.read_csv('animeTV_MachineLearning.csv')\n",
    "animedata.head()"
   ]
  },
  {
   "cell_type": "code",
   "execution_count": 3,
   "metadata": {
    "collapsed": false
   },
   "outputs": [
   ],
   "source": [
    "# Split dataframe into two dataframe, one with No Sequels and one with Sequels\n",
    "#hassequel = animedata[animedata['HasSequel'].str.contains(\"No Sequel\", case=False) == False] #Has Sequel\n",
    "#animedata = animedata.drop(animedata[animedata.HasSequel == 'Sequel'].index)                 #No Sequel\n",
    "#animedata = animedata.sample(frac =.2)                                                       #Resample due to imbalanced\n",
    "#animedata = animedata.append(hassequel)                                                      #Append Has Sequel with sampled No Sequel\n",
    "\n",
    "#animedata.head(n=-1)"
   ]
  },
  {
   "cell_type": "markdown",
   "metadata": {
    "collapsed": false
   },
   "source": [
    "# Machine Learning\n",
    "\n"
   ]
  },
  {
   "cell_type": "code",
   "execution_count": 4,
   "metadata": {
    "collapsed": false
   },
   "outputs": [
    {
     "name": "stdout",
     "output_type": "stream",
     "text": [
      "Goodness of Fit of Model \tTrain Dataset\n",
      "Classification Accuracy \t: 0.7465753424657534\n",
      "\n",
      "Goodness of Fit of Model \tTest Dataset\n",
      "Classification Accuracy \t: 0.5136612021857924\n",
      "\n"
     ]
    },
    {
     "name": "stdout",
     "output_type": "stream",
     "text": [
      "Accuracy \tTrain Dataset\n",
      "True Positive Rate \t: 58.68945868945868\n",
      "False Positive Rate \t: 10.554089709762533\n",
      "Accuracy \tTest Dataset\n",
      "True Positive Rate \t: 38.63636363636363\n",
      "False Positive Rate \t: 36.84210526315789\n",
      "ACCURACY OF THE MODEL:  0.5136612021857924\n"
     ]
    },
    {
     "data": {
      "image/png": "[encoded data removed]",
      "text/plain": [
       "<Figure size 864x288 with 4 Axes>"
      ]
     },
     "execution_count": 4,
     "metadata": {
      "image/png": {
       "height": 255,
       "width": 692
      }
     },
     "output_type": "execute_result"
    }
   ],
   "source": [
    "#Import essential models and functions from sklearn\n",
    "from sklearn.ensemble import GradientBoostingClassifier\n",
    "\n",
    "from sklearn.model_selection import train_test_split\n",
    "SP = pd.DataFrame(animedata[[\"Score\", \"Ranked\", \"isManga\"]])  # Predictors\n",
    "\n",
    "HS = pd.DataFrame(animedata['HasSequel'])    # Response\n",
    "\n",
    "X_train, X_test, y_train, y_test = train_test_split(SP, HS, test_size = 0.20, train_size = 0.80)\n",
    "# Check the sample sizes\n",
    "#print(\"Train Set :\", y_train.shape, X_train.shape)\n",
    "#print(\"Test Set  :\", y_test.shape, X_test.shape)\n",
    "\n",
    "# creating a GB classifier\n",
    "clf = GradientBoostingClassifier(n_estimators = 100)\n",
    "\n",
    "# Training the model on the training dataset\n",
    "# fit function is used to train the model using the training sets as parameters\n",
    "clf.fit(X_train.values, y_train.values.ravel())\n",
    "\n",
    "# performing predictions on the test dataset\n",
    "y_pred = clf.predict(X_test.values)\n",
    "\n",
    "# metrics are used to find accuracy or error\n",
    "from sklearn import metrics\n",
    "#print()\n",
    "\n",
    "y_train_pred = clf.predict(X_train.values)\n",
    "y_test_pred = clf.predict(X_test.values)\n",
    "\n",
    "# Check the Goodness of Fit (on Train Data)\n",
    "print(\"Goodness of Fit of Model \\tTrain Dataset\")\n",
    "print(\"Classification Accuracy \\t:\", clf.score(X_train.values, y_train))\n",
    "print()\n",
    "\n",
    "# Check the Goodness of Fit (on Test Data)\n",
    "print(\"Goodness of Fit of Model \\tTest Dataset\")\n",
    "print(\"Classification Accuracy \\t:\", clf.score(X_test.values, y_test))\n",
    "print()\n",
    "\n",
    "from sklearn.metrics import confusion_matrix\n",
    "\n",
    "# Plot the Confusion Matrix for Train and Test\n",
    "f, axes = plt.subplots(1, 2, figsize=(12, 4))\n",
    "sb.heatmap(confusion_matrix(y_train, y_train_pred),\n",
    "          annot = True, fmt=\".0f\", annot_kws={\"size\": 18}, ax = axes[0])\n",
    "sb.heatmap(confusion_matrix(y_test, y_test_pred), \n",
    "           annot = True, fmt=\".0f\", annot_kws={\"size\": 18}, ax = axes[1])\n",
    "\n",
    "cm = metrics.confusion_matrix(y_train, y_train_pred)\n",
    "numerator = cm[1][1]\n",
    "denominator = cm[1][0] + cm[1][1]\n",
    "tpr = (numerator/denominator)*100\n",
    "numerator = cm[0][1]\n",
    "denominator = cm[0][0] + cm[0][1]\n",
    "fpr = (numerator/denominator)*100\n",
    "print(\"Accuracy \\tTrain Dataset\")\n",
    "print(\"True Positive Rate \\t:\", tpr)\n",
    "print(\"False Positive Rate \\t:\", fpr)\n",
    "\n",
    "cm = metrics.confusion_matrix(y_test, y_test_pred)\n",
    "numerator = cm[1][1]\n",
    "denominator = cm[1][0] + cm[1][1]\n",
    "tpr = (numerator/denominator)*100\n",
    "numerator = cm[0][1]\n",
    "denominator = cm[0][0] + cm[0][1]\n",
    "fpr = (numerator/denominator)*100\n",
    "print(\"Accuracy \\tTest Dataset\")\n",
    "print(\"True Positive Rate \\t:\", tpr)\n",
    "print(\"False Positive Rate \\t:\", fpr)\n",
    "\n",
    "# using metrics module for accuracy calculation\n",
    "x = metrics.accuracy_score(y_test, y_pred)\n",
    "\n",
    "print(\"ACCURACY OF THE MODEL: \", x)"
   ]
  },
  {
   "cell_type": "code",
   "execution_count": 5,
   "metadata": {
    "collapsed": false
   },
   "outputs": [
    {
     "data": {
      "text/plain": [
       "array(['No Sequel'], dtype=object)"
      ]
     },
     "execution_count": 5,
     "metadata": {
     },
     "output_type": "execute_result"
    }
   ],
   "source": [
    "#predicting if NyanPire the Animation has a sequel\n",
    "clf.predict([[6.68, 5009.0, 1]])"
   ]
  },
  {
   "cell_type": "code",
   "execution_count": 6,
   "metadata": {
    "collapsed": false
   },
   "outputs": [
    {
     "data": {
      "text/plain": [
       "array(['Sequel'], dtype=object)"
      ]
     },
     "execution_count": 6,
     "metadata": {
     },
     "output_type": "execute_result"
    }
   ],
   "source": [
    "#predicting if Aldnoah.zero has a sequel\n",
    "clf.predict([[7.44, 1755.0, 0]])"
   ]
  },
  {
   "cell_type": "code",
   "execution_count": 7,
   "metadata": {
    "collapsed": false
   },
   "outputs": [
    {
     "data": {
      "text/plain": [
       "array(['Sequel'], dtype=object)"
      ]
     },
     "execution_count": 7,
     "metadata": {
     },
     "output_type": "execute_result"
    }
   ],
   "source": [
    "#predicting if Attack on Titan: The Final Season Part 2 has a sequel\n",
    "clf.predict([[8.90, 22.0, 1]])"
   ]
  },
  {
   "cell_type": "code",
   "execution_count": 0,
   "metadata": {
    "collapsed": false
   },
   "outputs": [
   ],
   "source": [
   ]
  },
  {
   "cell_type": "code",
   "execution_count": 0,
   "metadata": {
    "collapsed": false
   },
   "outputs": [
   ],
   "source": [
   ]
  }
 ],
 "metadata": {
  "kernelspec": {
   "display_name": "Python 3 (system-wide)",
   "language": "python",
   "metadata": {
    "cocalc": {
     "description": "Python 3 programming language",
     "priority": 100,
     "url": "https://www.python.org/"
    }
   },
   "name": "python3",
   "resource_dir": "/ext/jupyter/kernels/python3"
  },
  "language_info": {
   "codemirror_mode": {
    "name": "ipython",
    "version": 3
   },
   "file_extension": ".py",
   "mimetype": "text/x-python",
   "name": "python",
   "nbconvert_exporter": "python",
   "pygments_lexer": "ipython3",
   "version": "3.8.10"
  }
 },
 "nbformat": 4,
 "nbformat_minor": 4
}